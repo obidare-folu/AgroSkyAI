{
 "cells": [
  {
   "cell_type": "code",
   "execution_count": 2,
   "id": "4d359965-0db1-402c-bcf1-a9118eb5a336",
   "metadata": {},
   "outputs": [],
   "source": [
    "import wandb"
   ]
  },
  {
   "cell_type": "code",
   "execution_count": 3,
   "id": "51736268-2d86-43da-a728-583b81a67932",
   "metadata": {},
   "outputs": [
    {
     "name": "stderr",
     "output_type": "stream",
     "text": [
      "\u001b[34m\u001b[1mwandb\u001b[0m: Currently logged in as: \u001b[33mobidarefolu\u001b[0m (\u001b[33mfoluobidare\u001b[0m). Use \u001b[1m`wandb login --relogin`\u001b[0m to force relogin\n"
     ]
    },
    {
     "data": {
      "text/html": [
       "Tracking run with wandb version 0.17.1"
      ],
      "text/plain": [
       "<IPython.core.display.HTML object>"
      ]
     },
     "metadata": {},
     "output_type": "display_data"
    },
    {
     "data": {
      "text/html": [
       "Run data is saved locally in <code>/home/agx/agro_sky_ai/AgroSkyAI/notebooks/wandb/run-20240617_164440-yav4l8de</code>"
      ],
      "text/plain": [
       "<IPython.core.display.HTML object>"
      ]
     },
     "metadata": {},
     "output_type": "display_data"
    },
    {
     "data": {
      "text/html": [
       "Syncing run <strong><a href='https://wandb.ai/foluobidare/AgroSkyAI/runs/yav4l8de' target=\"_blank\">astral-grass-1</a></strong> to <a href='https://wandb.ai/foluobidare/AgroSkyAI' target=\"_blank\">Weights & Biases</a> (<a href='https://wandb.me/run' target=\"_blank\">docs</a>)<br/>"
      ],
      "text/plain": [
       "<IPython.core.display.HTML object>"
      ]
     },
     "metadata": {},
     "output_type": "display_data"
    },
    {
     "data": {
      "text/html": [
       " View project at <a href='https://wandb.ai/foluobidare/AgroSkyAI' target=\"_blank\">https://wandb.ai/foluobidare/AgroSkyAI</a>"
      ],
      "text/plain": [
       "<IPython.core.display.HTML object>"
      ]
     },
     "metadata": {},
     "output_type": "display_data"
    },
    {
     "data": {
      "text/html": [
       " View run at <a href='https://wandb.ai/foluobidare/AgroSkyAI/runs/yav4l8de' target=\"_blank\">https://wandb.ai/foluobidare/AgroSkyAI/runs/yav4l8de</a>"
      ],
      "text/plain": [
       "<IPython.core.display.HTML object>"
      ]
     },
     "metadata": {},
     "output_type": "display_data"
    }
   ],
   "source": [
    "wandb.init(project=\"AgroSkyAI\")\n",
    "config = wandb.config"
   ]
  },
  {
   "cell_type": "code",
   "execution_count": 1,
   "id": "aa7eb592-53c8-4957-8a96-5b0863a09a4b",
   "metadata": {},
   "outputs": [],
   "source": [
    "import random\n",
    "import os\n",
    "import cv2\n",
    "from PIL import Image"
   ]
  },
  {
   "cell_type": "code",
   "execution_count": 2,
   "id": "37061974-ea83-406d-98c8-c6ace981ff1c",
   "metadata": {},
   "outputs": [],
   "source": [
    "def copy_image(source_file, destination_dir, new_name=\"\", format='JPEG'):\n",
    "    \"\"\"\n",
    "    Converts an image to the specified format and saves it with a new name.\n",
    "    \n",
    "    Args:\n",
    "        source_file (str): The path to the source image file.\n",
    "        destination_dir (str): The directory where the image will be saved.\n",
    "        new_name (str): The new name for the saved image file (should have the correct extension).\n",
    "        format (str): The format to convert to ('JPEG' or 'PNG').\n",
    "    \"\"\"\n",
    "    if not os.path.exists(destination_dir):\n",
    "        os.makedirs(destination_dir)\n",
    "    \n",
    "    try:\n",
    "        with Image.open(source_file) as img:\n",
    "            new_file_path = os.path.join(destination_dir, new_name)\n",
    "            img.save(new_file_path, format=format)\n",
    "    except Exception as e:\n",
    "        print(f\"Error converting {source_file}: {e}\")"
   ]
  },
  {
   "cell_type": "code",
   "execution_count": 3,
   "id": "a52784ee-8c2e-4e1d-8e8b-7e0c3d95b580",
   "metadata": {},
   "outputs": [
    {
     "data": {
      "text/plain": [
       "'\\nbarley - 0\\nsoy - 1\\nsunfolwer - 2\\nwheat - 3\\nimage id, class, bbox string, \\n'"
      ]
     },
     "execution_count": 3,
     "metadata": {},
     "output_type": "execute_result"
    }
   ],
   "source": [
    "\"\"\"\n",
    "barley - 0\n",
    "soy - 1\n",
    "sunfolwer - 2\n",
    "wheat - 3\n",
    "image id, class, bbox string, \n",
    "\"\"\""
   ]
  },
  {
   "cell_type": "code",
   "execution_count": 4,
   "id": "92a65b9f-40e5-4ce0-b1fe-c5904ba1090f",
   "metadata": {},
   "outputs": [],
   "source": [
    "data_root_directory = \"../../pre_data/\"\n",
    "\n",
    "# Wheat dataset\n",
    "# gwd_dataset = data_root_directory + \"wheat/global-wheat-detection/\"\n",
    "gwdh_2021 = data_root_directory + \"wheat/gwhd_2021/\"\n",
    "\n",
    "# sunflower dataset\n",
    "pcvp_dataset = data_root_directory + \"sunflower/pcvp/\"\n",
    "scvp_dataset = data_root_directory + \"sunflower/scvp/\"\n",
    "\n",
    "# soybean dataset\n",
    "soynet_dataset = data_root_directory + \"soybean/soynet/\"\n",
    "bycbh73438_soy_dataset = data_root_directory + \"soybean/bycbh73438-1/\"\n",
    "\n",
    "target_directory = \"../data/\""
   ]
  },
  {
   "cell_type": "code",
   "execution_count": 5,
   "id": "53d953c3-6146-4487-8a0a-78fa77a888b0",
   "metadata": {},
   "outputs": [],
   "source": [
    "# 300 images from gwdh_2021 \n",
    "# 200 images from scvp_dataset, 100 images from pcvp_dataset\n",
    "# 100 images from soynet_dataset, 100 images from bycbh73438_soy_dataset\n",
    "\n",
    "# labels and boxes will be saved in a csv file with bboxes having the coco format [x_min, y_min, width, height]\n",
    "# csv format will be image_name, class, box string\n",
    "\n",
    "dataset_files_counter = 0\n",
    "predict_files_counter = [0]"
   ]
  },
  {
   "cell_type": "code",
   "execution_count": 6,
   "id": "d1756796-5c35-421c-b8a9-8ae6230af828",
   "metadata": {},
   "outputs": [
    {
     "data": {
      "text/plain": [
       "['a', 'b', 'c', '']"
      ]
     },
     "execution_count": 6,
     "metadata": {},
     "output_type": "execute_result"
    }
   ],
   "source": [
    "qq = \"a;b;c;\".split(\";\")\n",
    "qq"
   ]
  },
  {
   "cell_type": "code",
   "execution_count": 7,
   "id": "2499c0e2-aa18-4bd0-87cc-b6810b5ca02b",
   "metadata": {},
   "outputs": [],
   "source": [
    "def make_new_dataset(dataset, data_dict, file_counter):\n",
    "    def find_image_path(dataset, image_name):\n",
    "        possible_dirs = [\"images/\", \"train/images/\", \"test/images/\", \"valid/images/\"]\n",
    "        \n",
    "        for directory in possible_dirs:\n",
    "            source_file_path = os.path.join(dataset, directory, image_name)\n",
    "            if os.path.exists(source_file_path):\n",
    "                return source_file_path\n",
    "        return None\n",
    "        \n",
    "    for i in range(len(data_dict['image_names'])):\n",
    "        new_file_name = \"image_\" + str(file_counter)\n",
    "\n",
    "        source_file_path = find_image_path(dataset, data_dict['image_names'][i])\n",
    "        \n",
    "        # source_file_path = dataset + \"images/\" + data_dict['image_names'][i]\n",
    "        destination_directory = target_directory + \"images/\"\n",
    "        \n",
    "        copy_image(source_file_path, destination_directory, new_file_name+\".png\", format='PNG')\n",
    "        \n",
    "        \n",
    "\n",
    "        with open(target_directory+\"labels/\"+new_file_name+\".csv\", \"a\") as f:\n",
    "            f.write(new_file_name+\".png,\")\n",
    "            f.write(str(data_dict['classes'][i])+\",\")\n",
    "            for index, bbox in enumerate(data_dict['bboxes'][i]):\n",
    "                for j in range(len(bbox)):\n",
    "                    if j == 3 and not index == len(data_dict['bboxes'][i]) - 1:\n",
    "                        f.write(str(bbox[j])+\";\")\n",
    "                    else:\n",
    "                        f.write(str(bbox[j])+\" \")\n",
    "            f.write(\"\\n\")\n",
    "            \n",
    "        file_counter += 1\n",
    "            \n",
    "    return file_counter"
   ]
  },
  {
   "cell_type": "code",
   "execution_count": 8,
   "id": "e03da92c-9f87-4aa1-835b-531169165c6f",
   "metadata": {},
   "outputs": [],
   "source": [
    "# picking images from gwdh_2021\n",
    "def pick_gwdh_images(file, size):\n",
    "    random_images = None\n",
    "    with open(file, 'r') as f:\n",
    "        lines = f.readlines()[1:]\n",
    "        random_images = random.sample(lines, size)\n",
    "    \n",
    "    labels_dict = {\n",
    "        'image_names': [],\n",
    "        'classes': [],\n",
    "        'bboxes': []\n",
    "    }\n",
    "\n",
    "    for image in random_images:\n",
    "        info = image.split(\",\")\n",
    "        image_name = info[0]\n",
    "        bboxes_string = info[1]\n",
    "        bboxes_split = bboxes_string.split(\";\")\n",
    "        for i, bbox_string in enumerate(bboxes_split):\n",
    "            bboxes_split[i] = bbox_string.split()\n",
    "            bboxes_split[i] = [int(x) if x.isdigit() else x for x in bboxes_split[i]]\n",
    "        bboxes_split = tuple(bboxes_split)\n",
    "        \n",
    "        labels_dict['image_names'].append(image_name)\n",
    "        labels_dict['classes'].append(3)\n",
    "        labels_dict['bboxes'].append(bboxes_split)\n",
    "\n",
    "    assert len(labels_dict['image_names']) == len(labels_dict['classes']) == len(labels_dict['bboxes']), \"ERROR in parsing\"\n",
    "    return labels_dict\n",
    "        \n",
    "gwdh_2021_test_images_file = gwdh_2021 + \"competition_test.csv\"\n",
    "gwdh_2021_val_images_file = gwdh_2021 + \"competition_val.csv\"\n",
    "gwdh_2021_train_images_file = gwdh_2021 + \"competition_train.csv\"\n",
    "\n",
    "\n",
    "gwdh_2021_train_parsed = pick_gwdh_images(gwdh_2021_train_images_file, 210)\n",
    "gwdh_2021_test_parsed = pick_gwdh_images(gwdh_2021_test_images_file, 60)\n",
    "gwdh_2021_val_parsed = pick_gwdh_images(gwdh_2021_val_images_file, 30)\n",
    "\n",
    "gwdh_2021_train_parsed['image_names'].extend(gwdh_2021_test_parsed['image_names'])\n",
    "gwdh_2021_train_parsed['classes'].extend(gwdh_2021_test_parsed['classes'])\n",
    "gwdh_2021_train_parsed['bboxes'].extend(gwdh_2021_test_parsed['bboxes'])\n",
    "\n",
    "gwdh_2021_train_parsed['image_names'].extend(gwdh_2021_val_parsed['image_names'])\n",
    "gwdh_2021_train_parsed['classes'].extend(gwdh_2021_val_parsed['classes'])\n",
    "gwdh_2021_train_parsed['bboxes'].extend(gwdh_2021_val_parsed['bboxes'])\n",
    "\n",
    "wheat_data_dict = gwdh_2021_train_parsed\n",
    "assert len(wheat_data_dict['image_names']) == 300, \"ERROR in parsing\""
   ]
  },
  {
   "cell_type": "code",
   "execution_count": 11,
   "id": "cc454913-dd72-42dc-8018-90fe61c6f9a9",
   "metadata": {},
   "outputs": [
    {
     "name": "stdout",
     "output_type": "stream",
     "text": [
      "300\n"
     ]
    }
   ],
   "source": [
    "dataset_files_counter = make_new_dataset(gwdh_2021, wheat_data_dict, dataset_files_counter)\n",
    "print(dataset_files_counter)"
   ]
  },
  {
   "cell_type": "code",
   "execution_count": 12,
   "id": "a8738e1d-9938-49d0-a727-d3317da7d9c2",
   "metadata": {},
   "outputs": [],
   "source": [
    "# picking images from pcvp_dataset\n",
    "def convert_yolov7_to_coco_boxes(label_file, image_width, image_height):\n",
    "    \"\"\"\n",
    "    Converts YOLOv7 format labels to COCO format bounding boxes.\n",
    "    \n",
    "    Args:\n",
    "        label_file (str): Path to the YOLOv7 format label file.\n",
    "        image_width (int): Width of the original image.\n",
    "        image_height (int): Height of the original image.\n",
    "    \n",
    "    Returns:\n",
    "        list: List of bounding boxes in COCO format.\n",
    "    \"\"\"\n",
    "    coco_boxes = []\n",
    "    \n",
    "    with open(label_file, 'r') as f:\n",
    "        for line in f:\n",
    "            data = line.strip().split()\n",
    "            class_id = int(data[0])\n",
    "            if len(data) == 5:\n",
    "                # YOLOv7 format bounding box\n",
    "                center_x = float(data[1]) * image_width\n",
    "                center_y = float(data[2]) * image_height\n",
    "                width = float(data[3]) * image_width\n",
    "                height = float(data[4]) * image_height\n",
    "                \n",
    "                # Convert from center coordinates to top-left coordinates\n",
    "                x = center_x - width / 2\n",
    "                y = center_y - height / 2\n",
    "                \n",
    "                coco_boxes.append([x, y, width, height])\n",
    "            else:\n",
    "                # Segmentation mask, convert to bounding box\n",
    "                points = [float(p) for p in data[1:]]\n",
    "                x_coords = points[0::2]  # Extract x coordinates\n",
    "                y_coords = points[1::2]  # Extract y coordinates\n",
    "                \n",
    "                x_min = min(x_coords) * image_width\n",
    "                y_min = min(y_coords) * image_height\n",
    "                x_max = max(x_coords) * image_width\n",
    "                y_max = max(y_coords) * image_height\n",
    "                \n",
    "                width = x_max - x_min\n",
    "                height = y_max - y_min\n",
    "                \n",
    "                coco_boxes.append([x_min, y_min, width, height])\n",
    "    \n",
    "    return coco_boxes\n",
    "\n",
    "\n",
    "def extract_sunflower_files(directory, sub_directory, pcvp=True, counter=None):\n",
    "    labels_dict = {\n",
    "        'image_names': [],\n",
    "        'classes': [],\n",
    "        'bboxes': []\n",
    "    }\n",
    "    \n",
    "    new_directory = os.path.join(directory, sub_directory)\n",
    "    for filename in os.listdir(new_directory):\n",
    "        file = os.path.join(new_directory, filename)\n",
    "        try:\n",
    "            with open(file, 'r') as f:\n",
    "                contents = f.readlines()\n",
    "                \n",
    "                if not contents or len(contents) == 0:\n",
    "                    # File is empty of malformed\n",
    "                    if not pcvp:\n",
    "                        new_file_name = \"image_\" + str(counter[0])\n",
    "                        destination_directory = target_directory + \"predict/\"\n",
    "                        copy_image(directory+\"images/\" + filename[:-3] +\"jpg\", destination_directory, new_file_name+\".png\", format='PNG')\n",
    "                        counter[0] += 1\n",
    "                    continue\n",
    "\n",
    "                if pcvp and contents[0][0] == \"3\" or not pcvp:\n",
    "                    # print(filename)\n",
    "                    \n",
    "                    image_file = os.path.join(directory, \"images\", filename[:-3] + \"jpg\")\n",
    "                    image = cv2.imread(image_file)\n",
    "                    if image is None:\n",
    "                        print(f\"Image {image_file} not found or unable to read.\")\n",
    "                        continue\n",
    "                    \n",
    "                    height, width, channels = image.shape\n",
    "                    bboxes = convert_yolov7_to_coco_boxes(file, width, height)\n",
    "                    \n",
    "                    labels_dict['image_names'].append(filename[:-3]+\"jpg\")\n",
    "                    labels_dict['classes'].append(3)\n",
    "                    labels_dict['bboxes'].append(bboxes)\n",
    "                    \n",
    "                    # Ensure lengths are equal\n",
    "                    if len(labels_dict['classes']) != len(labels_dict['image_names']) or len(labels_dict['classes']) != len(labels_dict['bboxes']):\n",
    "                        print(\"Length mismatch found!\")\n",
    "                        break\n",
    "        except Exception as e:\n",
    "            print(f\"Error processing file {filename}: {e}\")\n",
    "            continue\n",
    "\n",
    "    return labels_dict\n",
    "\n",
    "\n",
    "# 198 sunflower images in total in pvcp dataset\n",
    "pcvp_test_images_dir = pcvp_dataset + \"test/\"\n",
    "pcvp_val_images_dir = pcvp_dataset + \"valid/\"\n",
    "pcvp_train_images_dir = pcvp_dataset + \"train/\"\n",
    "\n",
    "\n",
    "pcvp_train_parsed = extract_sunflower_files(pcvp_train_images_dir, \"labels\")\n",
    "pcvp_test_parsed = extract_sunflower_files(pcvp_test_images_dir, \"labels\")\n",
    "pcvp_val_parsed = extract_sunflower_files(pcvp_val_images_dir, \"labels\")\n",
    "\n",
    "pcvp_train_parsed['image_names'].extend(pcvp_test_parsed['image_names'])\n",
    "pcvp_train_parsed['classes'].extend(pcvp_test_parsed['classes'])\n",
    "pcvp_train_parsed['bboxes'].extend(pcvp_test_parsed['bboxes'])\n",
    "\n",
    "pcvp_train_parsed['image_names'].extend(pcvp_val_parsed['image_names'])\n",
    "pcvp_train_parsed['classes'].extend(pcvp_val_parsed['classes'])\n",
    "pcvp_train_parsed['bboxes'].extend(pcvp_val_parsed['bboxes'])\n",
    "\n",
    "pvcp_data_dict = pcvp_train_parsed\n",
    "\n",
    "assert len(pvcp_data_dict['image_names']) == len(pvcp_data_dict['classes']) == len(pvcp_data_dict['bboxes']) == 198, \"ERROR in parsing\"\n",
    "# assert len(pvcp_data_dict['image_names']) == len(pvcp_data_dict['labels']) == len(pvcp_data_dict['bboxes']) == 198, \"ERROR in parsing\""
   ]
  },
  {
   "cell_type": "code",
   "execution_count": 13,
   "id": "c63c1a0b-e447-4aaf-b9c8-3e8fcfcd152e",
   "metadata": {},
   "outputs": [
    {
     "data": {
      "text/plain": [
       "198"
      ]
     },
     "execution_count": 13,
     "metadata": {},
     "output_type": "execute_result"
    }
   ],
   "source": [
    "len(pvcp_data_dict['image_names'])"
   ]
  },
  {
   "cell_type": "code",
   "execution_count": 14,
   "id": "cc02490c-8108-46a6-a10f-4bed784e30b5",
   "metadata": {},
   "outputs": [],
   "source": [
    "scvp_test_images_dir = scvp_dataset + \"test/\"\n",
    "scvp_train_images_dir = scvp_dataset + \"train/\"\n",
    "\n",
    "scvp_train_parsed = extract_sunflower_files(scvp_test_images_dir, \"labels\", False, predict_files_counter)\n",
    "scvp_test_parsed = extract_sunflower_files(scvp_train_images_dir, \"labels\", False, predict_files_counter)\n",
    "\n",
    "scvp_train_parsed['image_names'].extend(scvp_test_parsed['image_names'])\n",
    "scvp_train_parsed['classes'].extend(scvp_test_parsed['classes'])\n",
    "scvp_train_parsed['bboxes'].extend(scvp_test_parsed['bboxes'])\n",
    "\n",
    "\n",
    "svcp_data_dict = scvp_train_parsed"
   ]
  },
  {
   "cell_type": "code",
   "execution_count": 15,
   "id": "a16eef11-4016-4b20-b3ba-5698d23ffe4f",
   "metadata": {},
   "outputs": [
    {
     "data": {
      "text/plain": [
       "117"
      ]
     },
     "execution_count": 15,
     "metadata": {},
     "output_type": "execute_result"
    }
   ],
   "source": [
    "len(svcp_data_dict['image_names'])"
   ]
  },
  {
   "cell_type": "code",
   "execution_count": 19,
   "id": "30411ce9-d0d4-44ed-9d2b-93e301fb7ac4",
   "metadata": {},
   "outputs": [
    {
     "name": "stdout",
     "output_type": "stream",
     "text": [
      "498\n"
     ]
    }
   ],
   "source": [
    "dataset_files_counter = make_new_dataset(pcvp_dataset, pvcp_data_dict, dataset_files_counter)\n",
    "print(dataset_files_counter)"
   ]
  },
  {
   "cell_type": "code",
   "execution_count": 20,
   "id": "af76636d-70bd-408b-b902-63937b29da05",
   "metadata": {},
   "outputs": [
    {
     "name": "stdout",
     "output_type": "stream",
     "text": [
      "615\n"
     ]
    }
   ],
   "source": [
    "dataset_files_counter = make_new_dataset(scvp_dataset, svcp_data_dict, dataset_files_counter)\n",
    "print(dataset_files_counter)"
   ]
  },
  {
   "cell_type": "code",
   "execution_count": 54,
   "id": "fc039100-9f8b-481c-919e-4dbbd94fc086",
   "metadata": {},
   "outputs": [],
   "source": [
    "# dataset_files_counter = 300"
   ]
  },
  {
   "cell_type": "code",
   "execution_count": null,
   "id": "914fec29-c330-493b-9f9c-7d524f853f89",
   "metadata": {},
   "outputs": [],
   "source": []
  }
 ],
 "metadata": {
  "kernelspec": {
   "display_name": "Python 3 (ipykernel)",
   "language": "python",
   "name": "python3"
  },
  "language_info": {
   "codemirror_mode": {
    "name": "ipython",
    "version": 3
   },
   "file_extension": ".py",
   "mimetype": "text/x-python",
   "name": "python",
   "nbconvert_exporter": "python",
   "pygments_lexer": "ipython3",
   "version": "3.8.10"
  }
 },
 "nbformat": 4,
 "nbformat_minor": 5
}
