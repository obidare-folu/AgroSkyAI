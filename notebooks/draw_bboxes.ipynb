{
 "cells": [
  {
   "cell_type": "code",
   "execution_count": 1,
   "id": "34cdeb17-8151-4674-bc8a-f1b5fb53acd8",
   "metadata": {},
   "outputs": [],
   "source": [
    "import os\n",
    "import pandas as pd\n",
    "from PIL import Image, ImageDraw, ImageOps"
   ]
  },
  {
   "cell_type": "code",
   "execution_count": 2,
   "id": "43ae6221-0150-4fbf-a6d6-19c2d4df152a",
   "metadata": {},
   "outputs": [],
   "source": [
    "images_folder = '../data/images/'\n",
    "labels_folder = '../data/labels/'\n",
    "output_folder = '../data/bbox_images'\n",
    "\n",
    "# Create output folder if it doesn't exist\n",
    "os.makedirs(output_folder, exist_ok=True)"
   ]
  },
  {
   "cell_type": "code",
   "execution_count": 5,
   "id": "00ba8356-b2ff-4fae-ad13-410d3cbce06d",
   "metadata": {},
   "outputs": [
    {
     "name": "stdout",
     "output_type": "stream",
     "text": [
      "image_192.png\n",
      "image_424.png\n",
      "image_492.png\n",
      "image_301.png\n",
      "image_411.png\n",
      "image_143.png\n",
      "image_483.png\n",
      "image_399.png\n",
      "Bounding boxes have been drawn and images saved in the output folder.\n"
     ]
    }
   ],
   "source": [
    "for csv_file in os.listdir(labels_folder):\n",
    "    if csv_file.endswith('.csv'):\n",
    "        csv_path = os.path.join(labels_folder, csv_file)\n",
    "        \n",
    "        # Read the CSV file\n",
    "        df = pd.read_csv(csv_path, header=None, names=['image_name', 'class', 'bboxes'])\n",
    "        \n",
    "        for index, row in df.iterrows():\n",
    "            try:\n",
    "                image_name = row['image_name']\n",
    "                bboxes = row['bboxes'].split(';')\n",
    "            except:\n",
    "                print(image_name)\n",
    "                continue\n",
    "            \n",
    "            # Open the image\n",
    "            image_path = os.path.join(images_folder, image_name)\n",
    "            if not os.path.exists(image_path):\n",
    "                print(f\"Image {image_path} does not exist, skipping.\")\n",
    "                continue\n",
    "                \n",
    "            original_image = Image.open(image_path)\n",
    "            fixed_image = ImageOps.exif_transpose(original_image)\n",
    "            draw = ImageDraw.Draw(fixed_image)\n",
    "            \n",
    "            # Draw each bounding box\n",
    "            for bbox in bboxes:\n",
    "                try:\n",
    "                    x_min, y_min, width, height = map(float, bbox.split())\n",
    "                except ValueError:\n",
    "                    output_image_path = os.path.join(output_folder, image_name)\n",
    "                    fixed_image.save(output_image_path)\n",
    "                    continue\n",
    "                x_max = x_min + width\n",
    "                y_max = y_min + height\n",
    "                draw.rectangle([x_min, y_min, x_max, y_max], outline='red', width=2)\n",
    "            \n",
    "            # Save the image to the output folder\n",
    "            output_image_path = os.path.join(output_folder, image_name)\n",
    "            fixed_image.save(output_image_path)\n",
    "\n",
    "print(\"Bounding boxes have been drawn and images saved in the output folder.\")"
   ]
  }
 ],
 "metadata": {
  "kernelspec": {
   "display_name": "Python 3 (ipykernel)",
   "language": "python",
   "name": "python3"
  },
  "language_info": {
   "codemirror_mode": {
    "name": "ipython",
    "version": 3
   },
   "file_extension": ".py",
   "mimetype": "text/x-python",
   "name": "python",
   "nbconvert_exporter": "python",
   "pygments_lexer": "ipython3",
   "version": "3.8.10"
  }
 },
 "nbformat": 4,
 "nbformat_minor": 5
}
